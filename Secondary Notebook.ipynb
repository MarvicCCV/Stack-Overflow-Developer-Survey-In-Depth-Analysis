{
 "cells": [
  {
   "cell_type": "code",
   "execution_count": 1,
   "id": "b1fc04ed",
   "metadata": {},
   "outputs": [],
   "source": [
    "import os"
   ]
  },
  {
   "cell_type": "code",
   "execution_count": 2,
   "id": "47311f51",
   "metadata": {},
   "outputs": [
    {
     "name": "stdout",
     "output_type": "stream",
     "text": [
      "survey_results_public.csv_part1 was not found\n"
     ]
    }
   ],
   "source": [
    "file1 = 'survey_results_public.csv_part1'\n",
    "\n",
    "if os.path.exists(file1):\n",
    "    os.remove(file1)\n",
    "    print(f'{file1} was successfully deleted!')\n",
    "else:\n",
    "    print(f'{file1} was not found')"
   ]
  },
  {
   "cell_type": "code",
   "execution_count": null,
   "id": "2c7534a4",
   "metadata": {},
   "outputs": [],
   "source": [
    "# Splitting the dataset into 2 parts so that the csv files can be less than 100 Mb\n",
    "df_part1.to_csv('survey_results_public_part1.csv', index = False)\n",
    "df_part2.to_csv('survey_results_public_part2.csv', index = False)"
   ]
  }
 ],
 "metadata": {
  "kernelspec": {
   "display_name": "Python 3 (ipykernel)",
   "language": "python",
   "name": "python3"
  },
  "language_info": {
   "codemirror_mode": {
    "name": "ipython",
    "version": 3
   },
   "file_extension": ".py",
   "mimetype": "text/x-python",
   "name": "python",
   "nbconvert_exporter": "python",
   "pygments_lexer": "ipython3",
   "version": "3.9.7"
  }
 },
 "nbformat": 4,
 "nbformat_minor": 5
}
